{
 "cells": [
  {
   "cell_type": "markdown",
   "metadata": {
    "id": "bThFamq9351N"
   },
   "source": [
    "### Import libraries\n",
    "\n",
    "Import the necessary Python libraries. These libraries provide the tools we need to interact with LangGraph, Vertex AI, and other components of our application."
   ]
  },
  {
   "cell_type": "code",
   "execution_count": 1,
   "metadata": {
    "id": "KNt0YeKaMz_Q"
   },
   "outputs": [
    {
     "name": "stderr",
     "output_type": "stream",
     "text": [
      "/Users/azamkhan/.local/lib/python3.11/site-packages/langgraph/checkpoint/base.py:18: LangChainDeprecationWarning: As of langchain-core 0.3.0, LangChain uses pydantic v2 internally. The langchain_core.pydantic_v1 module was a compatibility shim for pydantic v1, and should no longer be used. Please update the code to import from Pydantic directly.\n",
      "\n",
      "For example, replace imports like: `from langchain_core.pydantic_v1 import BaseModel`\n",
      "with: `from pydantic import BaseModel`\n",
      "or the v1 compatibility namespace if you are working in a code base that has not been fully upgraded to pydantic 2 yet. \tfrom pydantic.v1 import BaseModel\n",
      "\n",
      "  from langgraph.serde.jsonplus import JsonPlusSerializer\n"
     ]
    }
   ],
   "source": [
    "import json\n",
    "from typing import Literal\n",
    "import uuid\n",
    "\n",
    "from google.cloud import storage\n",
    "\n",
    "from langchain_core.messages import BaseMessage, HumanMessage\n",
    "from langchain_core.tools import tool\n",
    "# from langchain_google_vertexai import ChatVertexAI, VertexAIEmbeddings\n",
    "from langgraph.graph import END, MessageGraph\n",
    "from langgraph.prebuilt import ToolNode\n",
    "import vertexai\n",
    "from vertexai.preview import reasoning_engines"
   ]
  },
  {
   "cell_type": "code",
   "execution_count": 2,
   "metadata": {},
   "outputs": [
    {
     "name": "stderr",
     "output_type": "stream",
     "text": [
      "/Users/azamkhan/anaconda3/envs/museum/lib/python3.11/site-packages/tqdm/auto.py:21: TqdmWarning: IProgress not found. Please update jupyter and ipywidgets. See https://ipywidgets.readthedocs.io/en/stable/user_install.html\n",
      "  from .autonotebook import tqdm as notebook_tqdm\n"
     ]
    }
   ],
   "source": [
    "from langchain_google_genai import ChatGoogleGenerativeAI"
   ]
  },
  {
   "cell_type": "code",
   "execution_count": 3,
   "metadata": {},
   "outputs": [],
   "source": [
    "import numpy as np\n",
    "\n",
    "from sentence_transformers import SentenceTransformer\n",
    "import json\n",
    "\n",
    "model = SentenceTransformer('all-MiniLM-L6-v2')"
   ]
  },
  {
   "cell_type": "code",
   "execution_count": 17,
   "metadata": {},
   "outputs": [],
   "source": [
    "from pydantic import BaseModel, Field"
   ]
  },
  {
   "cell_type": "code",
   "execution_count": 5,
   "metadata": {},
   "outputs": [
    {
     "data": {
      "text/plain": [
       "AIMessage(content=\"Hello! I'm just a program, so I don't have feelings, but I'm here and ready to help you. How can I assist you today?\", additional_kwargs={'refusal': None}, response_metadata={'token_usage': {'completion_tokens': 29, 'prompt_tokens': 13, 'total_tokens': 42, 'completion_tokens_details': {'accepted_prediction_tokens': 0, 'audio_tokens': 0, 'reasoning_tokens': 0, 'rejected_prediction_tokens': 0}, 'prompt_tokens_details': {'audio_tokens': 0, 'cached_tokens': 0}}, 'model_name': 'gpt-4o-2024-08-06', 'system_fingerprint': 'fp_7f6be3efb0', 'finish_reason': 'stop', 'logprobs': None}, id='run-e3a183de-4ee3-4846-b86e-c79e9ce68c16-0', usage_metadata={'input_tokens': 13, 'output_tokens': 29, 'total_tokens': 42, 'input_token_details': {'audio': 0, 'cache_read': 0}, 'output_token_details': {'audio': 0, 'reasoning': 0}})"
      ]
     },
     "execution_count": 5,
     "metadata": {},
     "output_type": "execute_result"
    }
   ],
   "source": [
    "from langchain_openai import ChatOpenAI\n",
    "import openai\n",
    "import os\n",
    "\n",
    "llm = ChatOpenAI(model=\"gpt-4o-2024-08-06\", api_key=os.environ[\"OPENAI_API_KEY\"])\n",
    "llm.invoke(\"Hello, how are you?\")"
   ]
  },
  {
   "cell_type": "code",
   "execution_count": 4,
   "metadata": {},
   "outputs": [
    {
     "data": {
      "text/plain": [
       "AIMessage(content=\"(Verse 1)\\nIn realms of code, where data streams,\\nA mighty tool, LangChain gleams.\\nTo tame the AI's boundless might,\\nAnd weave a web of knowledge bright.\\nWith chains of thought, it builds its way,\\nThrough prompts and answers, day by day.\\n\\n(Verse 2)\\nFrom simple tasks to complex schemes,\\nIt orchestrates the digital dreams.\\nLLMs it calls, a summoned host,\\nTheir potent words, no longer lost.\\nWith memory's grace, it holds the thread,\\nOf conversations, carefully bred.\\n\\n(Verse 3)\\nThe agents dance, a tireless crew,\\nTheir actions planned, precise and true.\\nFrom web searches to database dives,\\nThey gather facts, keep knowledge alive.\\nWith indexes vast, a structured store,\\nLangChain unlocks what's kept in store.\\n\\n(Verse 4)\\nThe chains they link, a powerful bind,\\nConnecting minds, of every kind.\\nFrom chatbots smart to agents keen,\\nA symphony of code, unseen.\\nIt builds and learns, with each command,\\nA helping hand, across the land.\\n\\n(Verse 5)\\nBut challenges remain, it's true,\\nThe paths of code, are long and new.\\nThe biases lurk, the errors hide,\\nIn data's depths, they often abide.\\nSo developers strive, with careful hand,\\nTo make LangChain, throughout the land,\\n\\n(Verse 6)\\nA force for good, a helpful guide,\\nWhere knowledge flows, a surging tide.\\nA testament to human skill,\\nLangChain's power, we can fulfill,\\nTo build a future, bright and bold,\\nA story yet, to be untold.\\n\", additional_kwargs={}, response_metadata={'prompt_feedback': {'block_reason': 0, 'safety_ratings': []}, 'finish_reason': 'STOP', 'safety_ratings': []}, id='run-1af966b0-9ea0-49e7-a775-40ba7aaac8dc-0', usage_metadata={'input_tokens': 8, 'output_tokens': 376, 'total_tokens': 384, 'input_token_details': {'cache_read': 0}})"
      ]
     },
     "execution_count": 4,
     "metadata": {},
     "output_type": "execute_result"
    }
   ],
   "source": [
    "from langchain_google_genai import ChatGoogleGenerativeAI\n",
    "import os\n",
    "\n",
    "llm = ChatGoogleGenerativeAI(model=\"gemini-1.5-flash\", api_key=os.environ[\"GEMINI_API_KEY\"])\n",
    "llm.invoke(\"Sing a ballad of LangChain.\")"
   ]
  },
  {
   "cell_type": "code",
   "execution_count": 5,
   "metadata": {
    "id": "GGd89YWIi2qg"
   },
   "outputs": [],
   "source": [
    "import faiss\n",
    "# Load the FAISS index\n",
    "index = faiss.read_index(\"paintings_index.faiss\")\n",
    "\n",
    "# Load the JSON metadata\n",
    "with open(\"metdata.json\", \"r\") as file:\n",
    "    data = json.load(file)\n",
    "\n",
    "paintings = data[\"paintings\"]"
   ]
  },
  {
   "cell_type": "markdown",
   "metadata": {
    "id": "XCra5kJVKyg5"
   },
   "source": [
    "## Define the retriever tool\n",
    "\n",
    "Tools are interfaces that an agent, chain, or LLM can use to enable the Gemini model to interact with external systems, databases, document stores, and other APIs so that the model can get the most up-to-date information or take action with those systems.\n",
    "\n",
    "In this example, you'll define a function that will retrieve similar documents from the vector store using semantic search."
   ]
  },
  {
   "cell_type": "code",
   "execution_count": null,
   "metadata": {},
   "outputs": [],
   "source": [
    "def index_search(query:str, top_k:int):\n",
    "\n",
    "    query_embedding = model.encode([query], convert_to_tensor=False)\n",
    "    query_embedding = np.array(query_embedding).astype('float32')\n",
    "    distances, indices = index.search(query_embedding, top_k)  # FAISS search\n",
    "    result = [paintings[i] for i in indices[0]]\n",
    "    return result"
   ]
  },
  {
   "cell_type": "markdown",
   "metadata": {},
   "source": [
    "### State"
   ]
  },
  {
   "cell_type": "code",
   "execution_count": 7,
   "metadata": {},
   "outputs": [],
   "source": [
    "from typing import Annotated, List, Optional\n",
    "\n",
    "from typing_extensions import TypedDict\n",
    "\n",
    "from langgraph.graph.message import AnyMessage, add_messages\n",
    "\n",
    "\n",
    "\n",
    "class State(TypedDict):\n",
    "    messages: Annotated[list[AnyMessage], add_messages]\n",
    "    # visitor_preferences: Optional[VisitorPreferencesManager]\n",
    "    \n",
    "    # current_route: Optional[List[str]]"
   ]
  },
  {
   "cell_type": "code",
   "execution_count": 9,
   "metadata": {},
   "outputs": [],
   "source": [
    "from typing import Dict, List, Optional\n",
    "import json\n",
    "\n",
    "from sqlalchemy import create_engine, Column, String, Text\n",
    "from sqlalchemy.orm import declarative_base, sessionmaker\n",
    "from sqlalchemy.exc import SQLAlchemyError\n",
    "\n",
    "from langchain_core.tools import tool\n",
    "from langchain_core.runnables.config import RunnableConfig\n",
    "\n",
    "# SQLAlchemy setup\n",
    "Base = declarative_base()\n",
    "engine = create_engine('sqlite:///user_preferences.db', echo=False)\n",
    "Session = sessionmaker(bind=engine)\n",
    "\n",
    "class UserPreference(Base):\n",
    "    \"\"\"\n",
    "    SQLAlchemy model for storing user preferences\n",
    "    \"\"\"\n",
    "    __tablename__ = 'user_preferences'\n",
    "    \n",
    "    user_id = Column(String, primary_key=True)\n",
    "    art_styles = Column(Text)\n",
    "    favorite_artists = Column(Text)\n",
    "    visited_paintings = Column(Text)\n",
    "    \n",
    "    def to_dict(self):\n",
    "        \"\"\"\n",
    "        Convert database record to dictionary\n",
    "        \"\"\"\n",
    "        return {\n",
    "            'art_styles': json.loads(self.art_styles) if self.art_styles else [],\n",
    "            'favorite_artists': json.loads(self.favorite_artists) if self.favorite_artists else [],\n",
    "            'visited_paintings': json.loads(self.visited_paintings) if self.visited_paintings else []\n",
    "        }\n",
    "\n",
    "class UserPreferencesManager:\n",
    "    \"\"\"\n",
    "    Manager for handling user preferences using SQLAlchemy\n",
    "    \"\"\"\n",
    "    def __init__(self):\n",
    "        \"\"\"\n",
    "        Initialize database tables\n",
    "        \"\"\"\n",
    "        Base.metadata.create_all(engine)\n",
    "    \n",
    "    def update_preferences(self, user_id: str, interaction_context: Dict) -> None:\n",
    "        \"\"\"\n",
    "        Update user preferences in the database\n",
    "        \n",
    "        Args:\n",
    "            user_id (str): Unique identifier for the user\n",
    "            interaction_context (Dict): Details of user's interaction with artworks\n",
    "        \"\"\"\n",
    "        session = Session()\n",
    "        try:\n",
    "            # Try to find existing preferences\n",
    "            user_pref = session.query(UserPreference).get(user_id)\n",
    "            \n",
    "            # If no existing preferences, create new record\n",
    "            if not user_pref:\n",
    "                user_pref = UserPreference(user_id=user_id)\n",
    "            \n",
    "            # Prepare preference sets\n",
    "            art_styles = set(json.loads(user_pref.art_styles) if user_pref.art_styles else [])\n",
    "            favorite_artists = set(json.loads(user_pref.favorite_artists) if user_pref.favorite_artists else [])\n",
    "            visited_paintings = set(json.loads(user_pref.visited_paintings) if user_pref.visited_paintings else [])\n",
    "            \n",
    "            # Update preferences\n",
    "            if 'art_styles' in interaction_context:\n",
    "                art_styles.add(interaction_context['art_styles'])\n",
    "            \n",
    "            if 'favorite_artists' in interaction_context:\n",
    "                favorite_artists.add(interaction_context['favorite_artists'])\n",
    "            \n",
    "            if 'visited_painting' in interaction_context:\n",
    "                visited_paintings.add(interaction_context['visited_painting'])\n",
    "            \n",
    "            # Update record\n",
    "            user_pref.art_styles = json.dumps(list(art_styles))\n",
    "            user_pref.favorite_artists = json.dumps(list(favorite_artists))\n",
    "            user_pref.visited_paintings = json.dumps(list(visited_paintings))\n",
    "            \n",
    "            # Add and commit\n",
    "            session.merge(user_pref)\n",
    "            session.commit()\n",
    "        except SQLAlchemyError as e:\n",
    "            session.rollback()\n",
    "            print(f\"Error updating preferences: {e}\")\n",
    "        finally:\n",
    "            session.close()\n",
    "    \n",
    "    def get_personalized_recommendations(self, user_id: str) -> Dict:\n",
    "        \"\"\"\n",
    "        Generate personalized museum experience recommendations\n",
    "        \n",
    "        Args:\n",
    "            user_id (str): Unique identifier for the user\n",
    "        \n",
    "        Returns:\n",
    "            Dict: Personalized recommendations based on user preferences\n",
    "        \"\"\"\n",
    "        session = Session()\n",
    "        try:\n",
    "            # Retrieve user preferences\n",
    "            user_pref = session.query(UserPreference).get(user_id)\n",
    "            \n",
    "            if not user_pref:\n",
    "                return {\n",
    "                    'recommended_artworks': [],\n",
    "                    'recommended_depth': 'basic'\n",
    "                }\n",
    "            \n",
    "            # Parse preferences\n",
    "            art_styles = json.loads(user_pref.art_styles) if user_pref.art_styles else []\n",
    "            visited_paintings = json.loads(user_pref.visited_paintings) if user_pref.visited_paintings else []\n",
    "            \n",
    "            # Find matching artworks\n",
    "            matching_artworks = []\n",
    "            for style in art_styles:\n",
    "                # results = search_paintings({\"query\": style, \"top_k\": 3})\n",
    "                results = index_search(style, 3)\n",
    "                matching_artworks.extend(eval(str(results)))\n",
    "            \n",
    "            # Determine information depth\n",
    "            interaction_count = len(visited_paintings)\n",
    "            depth = 'basic' if interaction_count < 3 else 'intermediate' if interaction_count < 7 else 'expert'\n",
    "            \n",
    "            return {\n",
    "                'recommended_artworks': matching_artworks,\n",
    "                'recommended_depth': depth\n",
    "            }\n",
    "        except SQLAlchemyError as e:\n",
    "            print(f\"Error retrieving recommendations: {e}\")\n",
    "            return {\n",
    "                'recommended_artworks': [],\n",
    "                'recommended_depth': 'basic'\n",
    "            }\n",
    "        finally:\n",
    "            session.close()\n",
    "\n",
    "# Optional cleanup function (SQLAlchemy handles connections differently)\n",
    "def cleanup():\n",
    "    \"\"\"\n",
    "    Close SQLAlchemy engine if needed\n",
    "    \"\"\"\n",
    "    engine.dispose()"
   ]
  },
  {
   "cell_type": "code",
   "execution_count": null,
   "metadata": {},
   "outputs": [],
   "source": [
    "def list_user_preferences(config: RunnableConfig) -> Dict:\n",
    "    \"\"\"\n",
    "    Retrieve user preferences.\n",
    "    \n",
    "    Args:\n",
    "        config (RunnableConfig): Configuration containing user ID.\n",
    "    \n",
    "    Returns:\n",
    "        Dict: User preferences\n",
    "    \"\"\"\n",
    "    user_id = config.get(\"configurable\", {}).get(\"user_id\", \"default_user\")\n",
    "    \n",
    "    session = Session()\n",
    "    try:\n",
    "        # Retrieve preferences from database\n",
    "        user_pref = session.query(UserPreference).get(user_id)\n",
    "        \n",
    "        return user_pref.to_dict() if user_pref else {}\n",
    "    except SQLAlchemyError as e:\n",
    "        print(f\"Error retrieving preferences: {e}\")\n",
    "        return {}\n",
    "    finally:\n",
    "        session.close()\n",
    "\n",
    "\n",
    "def _update_user_preferences(preferences: Dict, config: RunnableConfig) -> None:\n",
    "    \"\"\"\n",
    "    Update user preferences based on the user's interactions with the museum's artworks.\n",
    "    \n",
    "    Args:\n",
    "        preferences (Dict): The user's preferences to be updated.\n",
    "        config (RunnableConfig): Configuration containing user ID.\n",
    "    \"\"\"\n",
    "    user_id = config.get(\"configurable\", {}).get(\"user_id\", \"default_user\")\n",
    "    preferences_manager.update_preferences(user_id, preferences)\n",
    "    print(f\"Updated preferences for user {user_id}\")"
   ]
  },
  {
   "cell_type": "code",
   "execution_count": 37,
   "metadata": {},
   "outputs": [],
   "source": [
    "from typing import List\n",
    "@tool\n",
    "def set_user_preferences(art_styles: str, artists: str, config: RunnableConfig) -> None:\n",
    "    \"\"\"\n",
    "    Useful for when you want to update user's favorite art styles and artists.\n",
    "    \"\"\"\n",
    "    preferences = {}\n",
    "    if art_styles:\n",
    "        preferences['art_styles'] = art_styles\n",
    "    if artists:\n",
    "        preferences['favorite_artists'] = artists\n",
    "    _update_user_preferences(preferences, config)\n",
    "    print(f\"Set new user preferences\")"
   ]
  },
  {
   "cell_type": "code",
   "execution_count": 38,
   "metadata": {},
   "outputs": [],
   "source": [
    "@tool\n",
    "def search_related_paintings(painting: str, config: RunnableConfig) -> str:\n",
    "    \"\"\"\n",
    "    Searches for paintings related or similar to the specified painting.\n",
    "    \n",
    "    Args:\n",
    "        painting (str): The title or description of the painting to search for.\n",
    "        config (RunnableConfig): Configuration containing user ID.\n",
    "    \n",
    "    Returns:\n",
    "        str: Information about related paintings.\n",
    "    \"\"\"\n",
    "    # Search for relevant paintings\n",
    "    result = index_search(painting, 1)\n",
    "    result = eval(str(result))\n",
    "    \n",
    "    # Update user preferences\n",
    "    print(\"Adding new interaction to user preferences\", painting)\n",
    "    _update_user_preferences({\n",
    "        \"art_styles\": result[0]['visual_description']['style'], \n",
    "        \"favorite_artists\": result[0]['artist'], \n",
    "        'visited_painting': painting\n",
    "    }, config)\n",
    "\n",
    "    # Construct related painting info\n",
    "    related_painting_info = \"\\n\".join(\n",
    "        [f\"Title: {p['painting']}\\nArtist: {p['artist']}\\nWhy it's related: {p['reason']}\" for p in result[0]['related_paintings']]\n",
    "    )\n",
    "    return related_painting_info"
   ]
  },
  {
   "cell_type": "code",
   "execution_count": 39,
   "metadata": {},
   "outputs": [],
   "source": [
    "@tool\n",
    "def get_personalized_recommendations(config: RunnableConfig) -> Dict:\n",
    "    \"\"\"\n",
    "    Generate personalized museum experience recommendations based on user preferences.\n",
    "    \n",
    "    Args:\n",
    "        config (RunnableConfig): Configuration containing user ID.\n",
    "    \n",
    "    Returns:\n",
    "        Dict: Personalized recommendations based on user preferences.\n",
    "    \"\"\"\n",
    "    user_id = config.get(\"configurable\", {}).get(\"user_id\", \"default_user\")\n",
    "    return preferences_manager.get_personalized_recommendations(user_id)"
   ]
  },
  {
   "cell_type": "code",
   "execution_count": 40,
   "metadata": {},
   "outputs": [],
   "source": [
    "from langchain.agents import Tool\n",
    "from langchain_community.utilities.wikipedia import WikipediaAPIWrapper\n",
    "\n",
    "wikipedia_tool = Tool(\n",
    "    name=\"wikipedia\",\n",
    "    func=WikipediaAPIWrapper().run,\n",
    "    description=\"Useful for when you need to look up and then summarize an artist's biography\",\n",
    ")"
   ]
  },
  {
   "cell_type": "code",
   "execution_count": 41,
   "metadata": {},
   "outputs": [],
   "source": [
    "class PaintingSearchInput(BaseModel):\n",
    "    query: str = Field(..., description=\"Search query for paintings\")\n",
    "    top_k: int = Field(..., description=\"Number of top results to return\")\n",
    "\n",
    "@tool#(args_schema=PaintingSearchInput)\n",
    "def search_paintings(query: str, top_k: Optional[int], config: RunnableConfig) -> str:\n",
    "    \"\"\"\n",
    "    Searches the FAISS index for the most relevant paintings based on a user query.\n",
    "\n",
    "    Args:\n",
    "        query (str): The user's input query.\n",
    "        top_k (int): Number of top results to return.\n",
    "    \n",
    "    Returns:\n",
    "        str: A string representation of a list of dictionaries containing painting metadata.\n",
    "    \"\"\"\n",
    "    if top_k is None:\n",
    "        top_k = 3\n",
    "    model = SentenceTransformer('all-MiniLM-L6-v2')\n",
    "    query_embedding = model.encode([query], convert_to_tensor=False)\n",
    "    query_embedding = np.array(query_embedding).astype('float32')\n",
    "    distances, indices = index.search(query_embedding, top_k)  # FAISS search\n",
    "    results = [paintings[i] for i in indices[0]]  # Retrieve painting metadata\n",
    "    results = str(results)\n",
    "\n",
    "    \n",
    "    painting = eval(results)[0]['title']\n",
    "    print(\"Adding new interaction to user preferences\", painting)\n",
    "    _update_user_preferences({\n",
    "        'visited_painting': painting\n",
    "    }, config)\n",
    "\n",
    "\n",
    "    return results"
   ]
  },
  {
   "cell_type": "code",
   "execution_count": 42,
   "metadata": {},
   "outputs": [],
   "source": [
    "class PaintingInfoInput(BaseModel):\n",
    "    painting: str = Field(..., description=\"The painting to get information about.\")\n",
    "\n",
    "@tool#(args_schema=PaintingInfoInput)\n",
    "def getPaintingInfo(painting: str, config: RunnableConfig) -> str:\n",
    "    \"\"\"\n",
    "    Searches for a painting by its title and then returns data about the painting such as the artist, description, things to mention, and expert knowledge.\n",
    "\n",
    "    Args:\n",
    "        painting (str): The title of the painting to search for.\n",
    "\n",
    "    Returns:\n",
    "        str: A string representation of a dictionary containing painting metadata.\n",
    "    \"\"\"\n",
    "    # model = SentenceTransformer('all-MiniLM-L6-v2')\n",
    "    # query_embedding = model.encode([painting], convert_to_tensor=False)\n",
    "    # query_embedding = np.array(query_embedding).astype('float32')\n",
    "    # distances, indices = index.search(query_embedding, 1)  # FAISS search\n",
    "    # result = [paintings[i] for i in indices[0]]\n",
    "    result = index_search(painting, 1)\n",
    "\n",
    "    # update user preferences since they like this painting\n",
    "    print(\"Adding new interaction to user preferences\", painting)\n",
    "    _update_user_preferences({\n",
    "        \"art_styles\": result[0]['visual_description']['style'], \n",
    "        \"favorite_artists\": result[0]['artist'], \n",
    "        'visited_painting': painting\n",
    "    }, config)\n",
    "\n",
    "\n",
    "    painting_info = {}\n",
    "    painting_info['artist'] = result[0]['artist']\n",
    "    painting_info['year'] = result[0]['year']\n",
    "    painting_info['things_to_mention'] = result[0]['things_to_mention']\n",
    "    painting_info['expert_insights'] = result[0]['expert_knowledge']\n",
    "    painting_info['conversational_prompts'] = result[0]['narrative']['conversational_prompts']\n",
    "    painting_info['style'] = result[0]['visual_description']['style']\n",
    "    \n",
    "\n",
    "    return str(painting_info)"
   ]
  },
  {
   "cell_type": "markdown",
   "metadata": {
    "id": "CFeOIbed351O"
   },
   "source": [
    "## Define LangGraph application\n",
    "\n",
    "Now you'll bring everything together to define your LangGraph application as a custom template in Reasoning Engine.\n",
    "\n",
    "This application will use the tool and router that you just defined. LangGraph provides a powerful way to structure these interactions and leverage the capabilities of LLMs."
   ]
  },
  {
   "cell_type": "code",
   "execution_count": 43,
   "metadata": {},
   "outputs": [],
   "source": [
    "from langchain_core.messages import ToolMessage\n",
    "from langchain_core.runnables import RunnableLambda\n",
    "\n",
    "from langgraph.prebuilt import ToolNode\n",
    "\n",
    "\n",
    "def handle_tool_error(state) -> dict:\n",
    "    error = state.get(\"error\")\n",
    "    tool_calls = state[\"messages\"][-1].tool_calls\n",
    "    return {\n",
    "        \"messages\": [\n",
    "            ToolMessage(\n",
    "                content=f\"Error: {repr(error)}\\n please fix your mistakes.\",\n",
    "                tool_call_id=tc[\"id\"],\n",
    "            )\n",
    "            for tc in tool_calls\n",
    "        ]\n",
    "    }\n",
    "\n",
    "\n",
    "def create_tool_node_with_fallback(tools: list) -> dict:\n",
    "    \"\"\"\n",
    "    Creates a ToolNode with the provided tools and sets up a fallback mechanism.\n",
    "\n",
    "    This function initializes a ToolNode with the given list of tools and configures\n",
    "    it to use a fallback handler in case of errors. The fallback handler is a \n",
    "    RunnableLambda that executes the handle_tool_error function.\n",
    "\n",
    "    Args:\n",
    "        tools (list): A list of tools to be included in the ToolNode.\n",
    "\n",
    "    Returns:\n",
    "        dict: A ToolNode object with the specified tools and fallback mechanism.\n",
    "    \"\"\"\n",
    "    return ToolNode(tools).with_fallbacks(\n",
    "        [RunnableLambda(handle_tool_error)], exception_key=\"error\"\n",
    "    )\n",
    "\n",
    "\n",
    "def _print_event(event: dict, _printed: set, max_length=1500):\n",
    "    current_state = event.get(\"dialog_state\")\n",
    "    if current_state:\n",
    "        print(\"Currently in: \", current_state[-1])\n",
    "    message = event.get(\"messages\")\n",
    "    if message:\n",
    "        if isinstance(message, list):\n",
    "            message = message[-1]\n",
    "        if message.id not in _printed:\n",
    "            msg_repr = message.pretty_repr(html=True)\n",
    "            if len(msg_repr) > max_length:\n",
    "                msg_repr = msg_repr[:max_length] + \" ... (truncated)\"\n",
    "            print(msg_repr)\n",
    "            _printed.add(message.id)"
   ]
  },
  {
   "cell_type": "code",
   "execution_count": 44,
   "metadata": {},
   "outputs": [],
   "source": [
    "from langchain_community.tools.tavily_search import TavilySearchResults\n",
    "from langchain_core.prompts import ChatPromptTemplate\n",
    "from langchain_core.runnables import Runnable, RunnableConfig\n",
    "\n",
    "\n",
    "preferences_manager = UserPreferencesManager()\n",
    "\n",
    "class Assistant:\n",
    "    def __init__(self, runnable: Runnable):\n",
    "        self.runnable = runnable\n",
    "        # preferences_manager = UserPreferencesManager()\n",
    "\n",
    "    def __call__(self, state: State, config: RunnableConfig):\n",
    "        while True:\n",
    "            configuration = config.get(\"configurable\", {})\n",
    "            result = self.runnable.invoke(state)\n",
    "            state = {**state, \"user_preferences\": configuration}\n",
    "\n",
    "            if not result.tool_calls and (\n",
    "                not result.content\n",
    "                or isinstance(result.content, list)\n",
    "                and not result.content[0].get(\"text\")\n",
    "            ):\n",
    "                messages = state[\"messages\"] + [(\"user\", \"Respond with a real output.\")]\n",
    "                state = {**state, \"messages\": messages}\n",
    "            else:\n",
    "                break\n",
    "        return {\"messages\": result}\n",
    "\n",
    "\n",
    "primary_assistant_prompt = ChatPromptTemplate.from_messages(\n",
    "    [\n",
    "        (\n",
    "            \"system\",\n",
    "            \"You are a helpful museum tour guide. \"\n",
    "            \" Use the provided tools to search for paintings, related paintings, and other information to assist the user's queries. \"\n",
    "            \" Spark conversation with the user by utilising the conversational prompts provided by the tools if they are returned. \"\n",
    "            \" When searching, be persistent. Expand your query bounds if the first search returns no results. \"\n",
    "            \" If a search comes up empty, expand your search before giving up.\",\n",
    "        ),\n",
    "        (\"placeholder\", \"{messages}\"),\n",
    "    ]\n",
    ")\n",
    "\n",
    "part_1_tools = [\n",
    "    search_paintings,\n",
    "    search_related_paintings,\n",
    "    getPaintingInfo,\n",
    "    wikipedia_tool,\n",
    "    get_personalized_recommendations,\n",
    "    set_user_preferences,\n",
    "]\n",
    "\n",
    "part_1_assistant_runnable = primary_assistant_prompt | llm.bind_tools(part_1_tools)"
   ]
  },
  {
   "cell_type": "code",
   "execution_count": 45,
   "metadata": {},
   "outputs": [],
   "source": [
    "from langgraph.checkpoint.memory import MemorySaver\n",
    "from langgraph.graph import END, StateGraph, START\n",
    "from langgraph.prebuilt import tools_condition\n",
    "\n",
    "\n",
    "builder = StateGraph(State)\n",
    "\n",
    "\n",
    "# Define nodes: these do the work\n",
    "builder.add_node(\"assistant\", Assistant(part_1_assistant_runnable))\n",
    "builder.add_node(\"tools\", create_tool_node_with_fallback(part_1_tools))\n",
    "# Define edges: these determine how the control flow moves\n",
    "builder.add_edge(START, \"assistant\")\n",
    "builder.add_conditional_edges(\n",
    "    \"assistant\",\n",
    "    tools_condition,\n",
    ")\n",
    "builder.add_edge(\"tools\", \"assistant\")\n",
    "\n",
    "# The checkpointer lets the graph persist its state\n",
    "# this is a complete memory for the entire graph.\n",
    "memory = MemorySaver()\n",
    "part_1_graph = builder.compile(checkpointer=memory)"
   ]
  },
  {
   "cell_type": "code",
   "execution_count": 46,
   "metadata": {},
   "outputs": [
    {
     "data": {
      "image/png": "[encoded data removed]",
      "text/plain": [
       "<IPython.core.display.Image object>"
      ]
     },
     "metadata": {},
     "output_type": "display_data"
    }
   ],
   "source": [
    "from IPython.display import Image, display\n",
    "\n",
    "try:\n",
    "    display(Image(part_1_graph.get_graph(xray=True).draw_mermaid_png()))\n",
    "except Exception:\n",
    "    # This requires some extra dependencies and is optional\n",
    "    pass"
   ]
  },
  {
   "cell_type": "code",
   "execution_count": 47,
   "metadata": {},
   "outputs": [
    {
     "name": "stdout",
     "output_type": "stream",
     "text": [
      "================================\u001b[1m Human Message \u001b[0m=================================\n",
      "\n",
      "What painting is the one with three girls in red dresses peeling potatoes?\n",
      "==================================\u001b[1m Ai Message \u001b[0m==================================\n",
      "Tool Calls:\n",
      "  search_paintings (6a815b89-4cd9-45f2-99b7-1bb78488bd87)\n",
      " Call ID: 6a815b89-4cd9-45f2-99b7-1bb78488bd87\n",
      "  Args:\n",
      "    query: painting with three girls in red dresses peeling potatoes\n",
      "    top_k: 1.0\n",
      "Adding new interaction to user preferences The Three Sisters\n",
      "Updated preferences for user 34333e55-3b93-4758-ad1f-b37638209da2\n",
      "=================================\u001b[1m Tool Message \u001b[0m=================================\n",
      "Name: search_paintings\n",
      "\n",
      "[{'id': '11', 'title': 'The Three Sisters', 'artist': 'Leon Frederic', 'year': '1896', 'description': 'In the 1890s Frederic’s paintings of impoverished workers and peasants in his native Belgium were celebrated for their forthrightness and arresting intensity. Here, the humdrum activity of peeling potatoes is vivified by the girls’ bright red dresses and gleaming red-gold and blond hair. Their downcast eyes and serene expressions recall representations of the young Virgin Mary in sixteenth-century Flemish art, which Frederic greatly admired. Nothing is known of the sitters beyond the painting’s title, which identifies them as sisters; the two eldest are so uncannily alike that they appear to be twins.', 'location': {'room': '827', 'description': 'The painting is located on the south west corner of the gallery. You will see a painting of three girls peeling potatoes in red called The Three Sisters.'}, 'tags': ['Flemish Art', 'Realism', 'Portrait', 'Children', 'Nature', '19th Century'], 'visual_description': {'dominant_colors': ['Reds', 'Browns', 'Warm skin tones'], 'size': '47 1/2 × 37 3/8 in. (120.5 × 95 cm)', 'medium': 'Oil on canvas', 'style': 'Realism', 'notable_elements': 'Ordinary setting of three girls carving potatoes. Beauty of cut potato skin twirling down like hair. Girls are in a lushious red gown with their bright orange hair and rosy cheeks. They look ... (truncated)\n"
     ]
    },
    {
     "name": "stderr",
     "output_type": "stream",
     "text": [
      "/var/folders/6l/d525srpn1tl8c1jw2pxxkr3m0000gn/T/ipykernel_19430/253421217.py:58: LegacyAPIWarning: The Query.get() method is considered legacy as of the 1.x series of SQLAlchemy and becomes a legacy construct in 2.0. The method is now available as Session.get() (deprecated since: 2.0) (Background on SQLAlchemy 2.0 at: https://sqlalche.me/e/b8d9)\n",
      "  user_pref = session.query(UserPreference).get(user_id)\n"
     ]
    },
    {
     "name": "stdout",
     "output_type": "stream",
     "text": [
      "==================================\u001b[1m Ai Message \u001b[0m==================================\n",
      "\n",
      "Here's what I found:  The painting you're describing is called *The Three Sisters*, painted by Leon Frederic in 1896.  It depicts three girls in red dresses peeling potatoes. The painting is in Room 827.  The girls' serene expressions and the vibrant colors of their dresses are striking.\n",
      "\n",
      "I can tell you more about the painting, the artist, or even suggest related paintings if you'd like.  For example, would you like to know more about the symbolism in the painting, or perhaps see some other works by Leon Frederic?\n",
      "================================\u001b[1m Human Message \u001b[0m=================================\n",
      "\n",
      "What painting is the one where a woman is making another woman's hair and there is a child in the foreground?\n",
      "==================================\u001b[1m Ai Message \u001b[0m==================================\n",
      "Tool Calls:\n",
      "  search_paintings (e178593d-76a5-4a08-b16e-79de44c5ceb9)\n",
      " Call ID: e178593d-76a5-4a08-b16e-79de44c5ceb9\n",
      "  Args:\n",
      "    query: painting of a woman doing another woman\\'s hair with a child in the foreground\n",
      "    top_k: 1.0\n",
      "Adding new interaction to user preferences La Coiffure\n",
      "Updated preferences for user 34333e55-3b93-4758-ad1f-b37638209da2\n",
      "=================================\u001b[1m Tool Message \u001b[0m=================================\n",
      "Name: search_paintings\n",
      "\n",
      "[{'id': '17', 'title': 'La Coiffure', 'artist': 'Pablo Picasso', 'year': '1906', 'description': \"This painting shows a woman arranging another woman's hair and a child in the foreground, with simplified forms and earthy colors that convey a sense of timelessness. Picasso’s focus on the figure’s solid, sculptural quality reflects his interest in the classical and primitive influences during this period.\", 'location': {'room': '828', 'description': \"The painting is located on the north east side of the gallery. You will see a painting of a woman arranging another woman's hair and a child in the foreground called La Coiffure.\"}, 'tags': ['Rose Period', 'Portrait', 'Classicism', 'Spanish Art', '20th Century'], 'visual_description': {'dominant_colors': ['Earth tones', 'Warm reds', 'Muted browns'], 'size': '69 in. × 39 3/8 in. (175.3 × 100 cm)', 'medium': 'Oil on canvas', 'style': 'Rose Period', 'notable_elements': 'Simplified, rounded forms, a warm color palette, and a focus on the sculptural quality of the figure’s body.'}, 'narrative': {'general': 'Picasso’s *La Coiffure* captures a quiet, timeless moment as a woman arranges her hair. The simplified, sculptural forms and earthy colors reflect Picasso’s exploration of classical and primitive influences, emphasizing the strength and beauty of the figure.', 'historical_context': 'Painted in 1906 during Picasso’s Rose Per ... (truncated)\n"
     ]
    },
    {
     "name": "stderr",
     "output_type": "stream",
     "text": [
      "/var/folders/6l/d525srpn1tl8c1jw2pxxkr3m0000gn/T/ipykernel_19430/253421217.py:58: LegacyAPIWarning: The Query.get() method is considered legacy as of the 1.x series of SQLAlchemy and becomes a legacy construct in 2.0. The method is now available as Session.get() (deprecated since: 2.0) (Background on SQLAlchemy 2.0 at: https://sqlalche.me/e/b8d9)\n",
      "  user_pref = session.query(UserPreference).get(user_id)\n"
     ]
    },
    {
     "name": "stdout",
     "output_type": "stream",
     "text": [
      "==================================\u001b[1m Ai Message \u001b[0m==================================\n",
      "\n",
      "That sounds like Picasso's *La Coiffure*, painted in 1906. It shows a woman arranging another woman's hair, with a child in the foreground.  The painting is located in Room 828. The simplified forms and earthy tones are characteristic of Picasso's Rose Period.  \n",
      "\n",
      "Would you like to know more about the painting, the artist's influences during that period, or perhaps see some other works from the same period?\n",
      "================================\u001b[1m Human Message \u001b[0m=================================\n",
      "\n",
      "I like the art style Realism, and my favorite artist is Leonardo da Vinci\n",
      "==================================\u001b[1m Ai Message \u001b[0m==================================\n",
      "Tool Calls:\n",
      "  set_user_preferences (0154de7e-d745-4c13-98dd-9c3f49c2cc03)\n",
      " Call ID: 0154de7e-d745-4c13-98dd-9c3f49c2cc03\n",
      "  Args:\n",
      "    art_styles: Realism\n",
      "    artists: Leonardo da Vinci\n",
      "Updated preferences for user 34333e55-3b93-4758-ad1f-b37638209da2\n",
      "Set new user preferences\n",
      "=================================\u001b[1m Tool Message \u001b[0m=================================\n",
      "Name: set_user_preferences\n",
      "\n",
      "null\n"
     ]
    },
    {
     "name": "stderr",
     "output_type": "stream",
     "text": [
      "/var/folders/6l/d525srpn1tl8c1jw2pxxkr3m0000gn/T/ipykernel_19430/253421217.py:58: LegacyAPIWarning: The Query.get() method is considered legacy as of the 1.x series of SQLAlchemy and becomes a legacy construct in 2.0. The method is now available as Session.get() (deprecated since: 2.0) (Background on SQLAlchemy 2.0 at: https://sqlalche.me/e/b8d9)\n",
      "  user_pref = session.query(UserPreference).get(user_id)\n"
     ]
    },
    {
     "name": "stdout",
     "output_type": "stream",
     "text": [
      "==================================\u001b[1m Ai Message \u001b[0m==================================\n",
      "\n",
      "Excellent choices!  Realism and Leonardo da Vinci are both fantastic. I'll keep those preferences in mind as we continue our tour.  Is there anything specific you'd like to see or know more about, perhaps some paintings in the style of Realism, or other works by artists influenced by da Vinci?\n",
      "================================\u001b[1m Human Message \u001b[0m=================================\n",
      "\n",
      "Tell me about a similar painting and how to find it from this painting.\n",
      "==================================\u001b[1m Ai Message \u001b[0m==================================\n",
      "\n",
      "To give you the best recommendation for a similar painting and directions to find it, I need to know which painting we're currently discussing. Could you please specify the painting's title or artist?\n",
      "================================\u001b[1m Human Message \u001b[0m=================================\n",
      "\n",
      "And can you tell me about the artist who painted this one?\n",
      "==================================\u001b[1m Ai Message \u001b[0m==================================\n",
      "\n",
      "Ah, yes!  To answer your question about the artist, I need to know which painting we are discussing.  Could you please remind me of the painting's title?\n",
      "================================\u001b[1m Human Message \u001b[0m=================================\n",
      "\n",
      "Can you give me some further info about this painting and maybe also some expert insights?\n",
      "==================================\u001b[1m Ai Message \u001b[0m==================================\n",
      "\n",
      "Certainly!  However, to provide you with information about a specific painting, I need to know which painting we're talking about. Please tell me the title of the painting you're interested in.\n",
      "================================\u001b[1m Human Message \u001b[0m=================================\n",
      "\n",
      "I like this painting, can you give me a personalized recommendation of other paintings to look at, based on my preferences?\n",
      "==================================\u001b[1m Ai Message \u001b[0m==================================\n",
      "Tool Calls:\n",
      "  get_personalized_recommendations (3cd3f913-531c-4290-ae7c-1b9e7ab2cbcc)\n",
      " Call ID: 3cd3f913-531c-4290-ae7c-1b9e7ab2cbcc\n",
      "  Args:\n",
      "=================================\u001b[1m Tool Message \u001b[0m=================================\n",
      "Name: get_personalized_recommendations\n",
      "\n",
      "{\"recommended_artworks\": [{\"id\": \"33\", \"title\": \"Self Portrait Spurveskjul\", \"artist\": \"Vilhelm Hammershoi\", \"year\": \"1911\", \"description\": \"This is one of a group of self-portraits that Hammersh\\u00f8i painted in 1911 while staying at Spurveskjul (Sparrow\\u2019s Hideaway), his rented summer home near Copenhagen. By showing his left hand raised as if painting, the right-handed artist makes plain that he created his self-portrait by observing his reflection in a mirror. The sunlit door and window are two of the signature motifs that defined Hammersh\\u00f8i\\u2019s celebrated interior scenes. The reworked contours of the figure and the mauve underpaint visible in the face attest to the experimental spirit and bold handling that he cultivated in his late self-portraits.\", \"location\": {\"room\": \"829\", \"description\": \"Painting is located on the north wall of Gallery 829 right beside the painting of Youth Playing Pipes of Pan\"}, \"tags\": [\"Realism\", \"Minimalism\", \"Tonalism\", \"Self-Portrait\", \"Introspection\", \"Danish Art\", \"20th Century\", \"Symbolism\"], \"visual_description\": {\"dominant_colors\": [\"Cool greys\", \"Muted whites\", \"Soft blacks\"], \"size\": \"35.5 x 39 3/8 in. (90 x 100 cm)\", \"style\": \"Realism\", \"medium\": \"Oil on canvas\", \"notable_elements\": \"Minimalist composition, soft lighting, and Hammershoi\\u2019s calm, introspective expression that conveys solitud ... (truncated)\n"
     ]
    },
    {
     "name": "stderr",
     "output_type": "stream",
     "text": [
      "/var/folders/6l/d525srpn1tl8c1jw2pxxkr3m0000gn/T/ipykernel_19430/253421217.py:106: LegacyAPIWarning: The Query.get() method is considered legacy as of the 1.x series of SQLAlchemy and becomes a legacy construct in 2.0. The method is now available as Session.get() (deprecated since: 2.0) (Background on SQLAlchemy 2.0 at: https://sqlalche.me/e/b8d9)\n",
      "  user_pref = session.query(UserPreference).get(user_id)\n"
     ]
    },
    {
     "name": "stdout",
     "output_type": "stream",
     "text": [
      "==================================\u001b[1m Ai Message \u001b[0m==================================\n",
      "\n",
      "Based on your preferences for Realism and Leonardo da Vinci, I have some personalized recommendations for you:\n",
      "\n",
      "1.  **Self Portrait Spurveskjul by Vilhelm Hammershoi (Room 829):** This self-portrait, painted in 1911, showcases Hammershoi's introspective style, which aligns with the contemplative nature often found in Realism.  The minimalist composition and muted colors create a serene atmosphere.  To find it, from our current location, you'll need to [brief directions based on tool output].\n",
      "\n",
      "2.  **Inferno by Franz von Stuck (Room 829):** While not strictly Realism, this painting's intense emotional depth and dramatic use of light and shadow resonate with the expressive qualities sometimes found within Realist works.  It's located [brief directions based on tool output].\n",
      "\n",
      "3.  **Vsevolod Mikhailovich Garshin by Ilya Repin (Room 827):** This naturalistic portrait captures the intense emotions of its subject, echoing the focus on psychological realism found in some of da Vinci's works. You can find it by [brief directions based on tool output].\n",
      "\n",
      "These recommendations consider your stated preferences while offering a variety of styles and approaches within the broader context of realism and emotional depth.  Let me know if you'd like more details on any of these paintings or further recommendations.\n"
     ]
    }
   ],
   "source": [
    "thread_id = str(uuid.uuid4())\n",
    "\n",
    "config = {\n",
    "    \"configurable\": {\n",
    "        \"user_id\": thread_id,\n",
    "        \"user_preferences\": {\n",
    "            'art_styles': [],\n",
    "            'favorite_artists': [],\n",
    "            'interaction_depth': 0,\n",
    "            'visited_paintings': [],\n",
    "            'default_user' : \"user_1\"\n",
    "        },\n",
    "        \"thread_id\": thread_id,\n",
    "    }\n",
    "}\n",
    "\n",
    "_printed = set()\n",
    "questions = [\n",
    "    \"What painting is the one with three girls in red dresses peeling potatoes?\",\n",
    "    \"What painting is the one where a woman is making another woman's hair and there is a child in the foreground?\",\n",
    "    \"I like the art style Realism, and my favorite artist is Leonardo da Vinci\", \n",
    "    \"Tell me about a similar painting and how to find it from this painting.\",\n",
    "    \"And can you tell me about the artist who painted this one?\",\n",
    "    \"Can you give me some further info about this painting and maybe also some expert insights?\",\n",
    "    \"I like this painting, can you give me a personalized recommendation of other paintings to look at, based on my preferences?\",\n",
    "\n",
    "    \n",
    "]\n",
    "for question in questions:\n",
    "    events = part_1_graph.stream(\n",
    "            {\"messages\": (\"user\", question)}, config, stream_mode=\"values\"\n",
    "        )\n",
    "\n",
    "    for event in events:\n",
    "        _print_event(event, _printed)\n",
    "        # print(event)\n"
   ]
  },
  {
   "cell_type": "code",
   "execution_count": null,
   "metadata": {},
   "outputs": [],
   "source": []
  },
  {
   "cell_type": "code",
   "execution_count": 397,
   "metadata": {},
   "outputs": [
    {
     "name": "stdout",
     "output_type": "stream",
     "text": [
      "{'message': 'Not a valid object'}\n"
     ]
    }
   ],
   "source": [
    "import requests\n",
    "import json\n",
    "from pprint import pprint\n",
    "\n",
    "def get_art(objectID):\n",
    "    url = f\"https://collectionapi.metmuseum.org/public/collection/v1/objects/{objectID}\"\n",
    "    response = requests.get(url)\n",
    "    data = response.json()\n",
    "    return data\n",
    "\n",
    "obj = (get_art(700414)) # 1930\n",
    "pprint(obj)"
   ]
  },
  {
   "cell_type": "code",
   "execution_count": 35,
   "metadata": {},
   "outputs": [],
   "source": [
    "import sqlite3"
   ]
  },
  {
   "cell_type": "code",
   "execution_count": 225,
   "metadata": {},
   "outputs": [
    {
     "name": "stdout",
     "output_type": "stream",
     "text": [
      "('8f58da0f-7dd9-4c39-b253-b2edfad61e9a', '[\"Realism\"]', '[\"Leon Frederic\"]', '[\"The Three Sisters\"]')\n",
      "('703b2559-2733-452e-b02a-e3dafc1c9357', '[\"Rose Period\"]', '[\"Pablo Picasso\"]', '[\"La Coiffure\"]')\n",
      "('a923787e-e589-4549-8b39-ad8fd2701880', '[\"Rose Period\"]', '[\"Pablo Picasso\"]', '[\"La Coiffure\", \"The Three Sisters\"]')\n",
      "('896d680e-81ea-470c-8835-60d28c1b1e34', '[\"Rose Period\"]', '[\"Pablo Picasso\"]', '[\"La Coiffure\", \"The Three Sisters\"]')\n",
      "('115177dd-6ee0-4140-913e-2c37dbc631c5', '[]', '[]', '[\"La Coiffure\", \"The Three Sisters\"]')\n",
      "('a838fed3-1f9c-4169-bf76-a5a51a559c56', '[\"Rose Period\"]', '[\"Pablo Picasso\"]', '[\"The Three Sisters\", \"La Coiffure\"]')\n"
     ]
    }
   ],
   "source": [
    "def create_connection(db_file): \n",
    "    conn = None\n",
    "    try:\n",
    "        conn = sqlite3.connect(db_file)\n",
    "        return conn\n",
    "    except Exception as e:\n",
    "        print(e)\n",
    "    return conn\n",
    "\n",
    "# search all users in user_preferences table\n",
    "\n",
    "def select_all_users(conn):\n",
    "    cur = conn.cursor()\n",
    "    cur.execute(\"SELECT * FROM user_preferences\")\n",
    "    rows = cur.fetchall()\n",
    "    for row in rows:\n",
    "        print(row)\n",
    "\n",
    "select_all_users(create_connection(\"user_preferences.db\"))\n",
    "\n",
    "# delete all rows in user_preferences table\n",
    "\n",
    "# def delete_all_users(conn):\n",
    "#     cur = conn.cursor()\n",
    "#     cur.execute(\"DELETE FROM user_preferences\")\n",
    "#     conn.commit()\n",
    "\n",
    "# delete_all_users(create_connection(\"user_preferences.db\"))"
   ]
  }
 ],
 "metadata": {
  "colab": {
   "collapsed_sections": [
    "-RYpMytsZ882",
    "R5Xep4W9lq-Z",
    "OaP1LRhPi0y7",
    "GBdIVxqVkjT-"
   ],
   "name": "tutorial_langgraph_rag_agent.ipynb",
   "toc_visible": true
  },
  "kernelspec": {
   "display_name": "museum",
   "language": "python",
   "name": "python3"
  },
  "language_info": {
   "codemirror_mode": {
    "name": "ipython",
    "version": 3
   },
   "file_extension": ".py",
   "mimetype": "text/x-python",
   "name": "python",
   "nbconvert_exporter": "python",
   "pygments_lexer": "ipython3",
   "version": "3.11.10"
  }
 },
 "nbformat": 4,
 "nbformat_minor": 0
}
