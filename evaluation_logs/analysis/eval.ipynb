{
 "cells": [
  {
   "cell_type": "code",
   "execution_count": 3,
   "metadata": {},
   "outputs": [],
   "source": [
    "import pandas as pd\n",
    "import numpy as np\n",
    "import matplotlib.pyplot as plt"
   ]
  },
  {
   "cell_type": "code",
   "execution_count": 93,
   "metadata": {},
   "outputs": [],
   "source": [
    "logs_dir_path = \"/Users/azamkhan/Downloads/museum_metric_logs\""
   ]
  },
  {
   "cell_type": "code",
   "execution_count": null,
   "metadata": {},
   "outputs": [
    {
     "name": "stdout",
     "output_type": "stream",
     "text": [
      "\n",
      "Summary Table:\n",
      " Model  avg_time_to_first_token  avg_total_time  avg_time_per_output_token  avg_throughput\n",
      "gemini                 0.318182        0.680909                 117.285455       80.958182\n",
      "  qwen                26.988000       36.577000                 103.038000        2.446000\n",
      " gemma               107.775000      131.928000                 332.512000        0.579000\n"
     ]
    }
   ],
   "source": [
    "import pandas as pd\n",
    "import glob\n",
    "\n",
    "# Load the log files\n",
    "log_files = glob.glob(f\"{logs_dir_path}/*_metrics_log.csv\")\n",
    "\n",
    "if len(log_files) < 1:\n",
    "    raise ValueError(\"At least one log file is required.\")\n",
    "\n",
    "# Load all datasets\n",
    "datasets = {\n",
    "    file.split(\"/\")[-1].replace(\"_metrics_log.csv\", \"\"): pd.read_csv(file)\n",
    "    for file in log_files\n",
    "}\n",
    "\n",
    "\n",
    "\n",
    "# Define a function to summarize metrics\n",
    "def summarize_metrics(datasets):\n",
    "    summary_results = []\n",
    "\n",
    "    for name, data in datasets.items():\n",
    "        summary = {\"Model\": name}\n",
    "        data.drop(columns=[\"input\",\"llm_output\", \"num_total_output_tokens\"], inplace=True)\n",
    "        for column in data.columns:\n",
    "            if pd.api.types.is_numeric_dtype(data[column]):\n",
    "                summary[f\"avg_{column}\"] = data[column].mean()\n",
    "        summary_results.append(summary)\n",
    "\n",
    "    return pd.DataFrame(summary_results)\n",
    "\n",
    "\n",
    "# Perform the summarization\n",
    "results_df = summarize_metrics(datasets)\n",
    "\n",
    "# Output the results\n",
    "print(\"\\nSummary Table:\")\n",
    "print(results_df.to_string(index=False))"
   ]
  },
  {
   "cell_type": "code",
   "execution_count": 97,
   "metadata": {},
   "outputs": [],
   "source": [
    "results_df.to_csv(\n",
    "    \"/Users/azamkhan/columbia/deep_learning/museum-ai/evaluation_logs/analysis/metrics_summary.csv\",\n",
    "    index=False,\n",
    ")"
   ]
  },
  {
   "cell_type": "code",
   "execution_count": 41,
   "metadata": {},
   "outputs": [
    {
     "name": "stdout",
     "output_type": "stream",
     "text": [
      "\n",
      "Summary Table:\n",
      " Model  avg_response_time  std_response_time\n",
      "gemini           0.693636           0.074870\n",
      " gemma          51.012000           8.290423\n",
      "  qwen           9.994000           1.559068\n"
     ]
    }
   ],
   "source": [
    "import pandas as pd\n",
    "import glob\n",
    "\n",
    "# Load the interpretation log files\n",
    "log_files = glob.glob(f\"{logs_dir_path}/*_interpretation_log.csv\")\n",
    "\n",
    "if len(log_files) < 1:\n",
    "    raise ValueError(\"At least one interpretation log file is required.\")\n",
    "\n",
    "# Load all datasets\n",
    "datasets = {\n",
    "    file.split(\"/\")[-1].replace(\"_interpretation_log.csv\", \"\"): pd.read_csv(file)\n",
    "    for file in log_files\n",
    "}\n",
    "\n",
    "# Ensure all datasets have the same columns\n",
    "columns_set = [set(data.columns) for data in datasets.values()]\n",
    "if not all(cols == columns_set[0] for cols in columns_set):\n",
    "    raise ValueError(\n",
    "        \"The columns in the datasets do not match. Please verify the data.\"\n",
    "    )\n",
    "\n",
    "columns_to_analyze = list(columns_set[0])\n",
    "\n",
    "\n",
    "# Define a function to summarize metrics\n",
    "def summarize_interpretation_logs(datasets, columns):\n",
    "    summary_results = []\n",
    "\n",
    "    for name, data in datasets.items():\n",
    "        summary = {\"Model\": name}\n",
    "        for column in columns:\n",
    "            if pd.api.types.is_numeric_dtype(data[column]):\n",
    "                summary[f\"avg_{column}\"] = data[column].mean()\n",
    "                summary[f\"std_{column}\"] = data[column].std()\n",
    "        summary_results.append(summary)\n",
    "\n",
    "    return pd.DataFrame(summary_results)\n",
    "\n",
    "\n",
    "# Perform the summarization\n",
    "interpretation_results_df = summarize_interpretation_logs(datasets, columns_to_analyze)\n",
    "\n",
    "# Output the results\n",
    "print(\"\\nSummary Table:\")\n",
    "print(interpretation_results_df.to_string(index=False))"
   ]
  },
  {
   "cell_type": "code",
   "execution_count": null,
   "metadata": {},
   "outputs": [],
   "source": [
    "interpretation_results_df.to_csv(\n",
    "    \"/Users/azamkhan/columbia/deep_learning/museum-ai/evaluation_logs/analysis/interpretation_metrics_summary.csv\",\n",
    "    index=False,\n",
    ")"
   ]
  }
 ],
 "metadata": {
  "kernelspec": {
   "display_name": "museum",
   "language": "python",
   "name": "python3"
  },
  "language_info": {
   "codemirror_mode": {
    "name": "ipython",
    "version": 3
   },
   "file_extension": ".py",
   "mimetype": "text/x-python",
   "name": "python",
   "nbconvert_exporter": "python",
   "pygments_lexer": "ipython3",
   "version": "3.11.10"
  }
 },
 "nbformat": 4,
 "nbformat_minor": 2
}
